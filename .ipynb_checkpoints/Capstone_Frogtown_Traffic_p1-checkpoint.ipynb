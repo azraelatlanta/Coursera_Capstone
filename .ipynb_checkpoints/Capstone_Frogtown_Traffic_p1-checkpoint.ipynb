{
 "cells": [
  {
   "cell_type": "markdown",
   "metadata": {},
   "source": [
    "# Frogtown/Saint Paul Traffic Stop Report_1 Intro\n",
    "## By Abu Nayeem (04/07/19)"
   ]
  },
  {
   "cell_type": "markdown",
   "metadata": {},
   "source": [
    "\n",
    "**Disclaimer:** This is my Coursera Capstone Project for Data Science. Also, I will be using the term \"Blacks\" instead of African Amercian because that is the race indicator provided from the dataset and the category also includes persons of African origin (substantial minority). \n",
    "\n",
    "### Purpose:\n",
    "\n",
    "Currently in the United States, there is alot of tension between law enforcement, and the public. In the past, law enforcement have targeted (implicitly or explicitly) African Americans. Historically, the Twin Cities, consisting of the cities Saint Paul and Minneapolis, the police departments have a tense history involving recent prolific police shootings, clamping down on labor activists, and other violations. I will be looking into the Traffic Stop Data for Saint Paul, Minnesota (USA) from the Saint Paul Police Department (SPPD). Analyzing the traffic stop data can provide evidence (or lack thereof) of systemic biases. The goal of my report to add insight on what is happening in my community, Thomas-Dale neighborhood aka Frogtown, as well as advocate citizens to use open source data and/or demand their public agencies to provide such data. My analysis will have a heavy racial focus.\n",
    "\n",
    "The key question that I would like to ask is their racial discrimination for police traffic stops in Saint Paul and what are the impact of some confounding factors, such as the type of venues around the area? The key stakeholders are the Frogtown residents. We are one of the poorest neighborhood in the city, where whites are a minority (22%). I hope to have a discussion with the larger community after finishing this report.\n",
    "\n",
    "There are several methods/considerations/limitations in testing for racial biases; : \n",
    "1. At the first layer (shallow level), are certain drivers being selected more than others? There can be many explainations for discrepancies that may not be discrimination\n",
    "2. At the second layer, are 'certain' drivers being treated differently. For example, do women drivers get less citations?\n",
    "3. Are certain racial groups treatment stand out compared to their peers?\n",
    "4. Are there external factors, such as venues, local bars, and congested traffic areas that may influence outcome?\n",
    "5. Racial idenitification is imperfect given that this is determined by officers and certain persons are mixed heritage\n",
    "\n",
    "    \n",
    "\n"
   ]
  },
  {
   "cell_type": "markdown",
   "metadata": {},
   "source": [
    "## About Saint Paul\n",
    "\n",
    "The City of Saint Paul is the second largest city in Minnesota, USA, and is the capital city for the state. Saint Paul is often paired with their nearby city, Minneapolis, where they are aptly named, The Twin Cities. It has roughly over 300,000 people and the city itself is quite diverse. Minnesota has a high level of [racial inequity](http://www.citypages.com/news/minnesota-still-has-some-of-the-worst-racial-disparities-in-the-nation/504390741) ranking 47th of 51st compared to rest of the United States. Saint Paul is broken down to seventeen Planning Districts, created in 1979 to allow neighborhoods to participate in governance and use Community Development Block Grants. The Thomas/Dale neighborhood is one of the district planning councils. A few years ago, a tragic police shooting occurred during a traffic stop in the suburbs of Saint Paul, Falcon Heights, which has increased tension within the community between law enforcement and citizens. \n",
    "\n",
    "\n",
    "## About Thomas-Dale-Frogtown Neighborhood\n",
    "\n",
    "The Frogtown community has historically been a transitional community with new immigrant/refugee communities living in the neighborhood for short period of time. From my experience, Frogtown boasts considerable diversity respect to language, culture, and ethnicity. In recent times, it has been historically poor. Here is a snapshot of the community  exported from [Minnesota Compass](https://www.mncompass.org/profiles/neighborhoods/st-paul/frogtown-thomas-dale) based on 2017 Census Demographic Data.\n",
    "\n",
    "![title](Pics/SP_Traffic/fg_race.png)\n",
    "\n",
    "![title](Pics/SP_Traffic/fgInc1.png)\n",
    "\n",
    "\n",
    "### Frogtown Community Information\n",
    "\n",
    "The image below displays the Frogtown Community using the police grid (matches well with actual boundaries). On the southern boundary of Frogtown is University Avenue, where the Light Rail Transportation runs along the boundary and it is a heavy residential street as well. I will emphasize more noticeable landmarks once plugging in the 4-square data. The two rightmost sectors are respectfully Mt. Airy and Capitol Heights. These two communities are considered distinct by community members. \n",
    "\n",
    "![title](Pics/SP_Traffic/FG_Grid.png)\n",
    "\n"
   ]
  },
  {
   "cell_type": "code",
   "execution_count": null,
   "metadata": {},
   "outputs": [],
   "source": []
  },
  {
   "cell_type": "code",
   "execution_count": null,
   "metadata": {},
   "outputs": [],
   "source": []
  }
 ],
 "metadata": {
  "kernelspec": {
   "display_name": "Python 3",
   "language": "python",
   "name": "python3"
  },
  "language_info": {
   "codemirror_mode": {
    "name": "ipython",
    "version": 3
   },
   "file_extension": ".py",
   "mimetype": "text/x-python",
   "name": "python",
   "nbconvert_exporter": "python",
   "pygments_lexer": "ipython3",
   "version": "3.7.1"
  }
 },
 "nbformat": 4,
 "nbformat_minor": 2
}
