{
 "cells": [
  {
   "cell_type": "code",
   "execution_count": 1,
   "metadata": {},
   "outputs": [],
   "source": [
    "import pandas as pd\n",
    "import numpy as np\n",
    "from datetime import datetime\n",
    "import warnings\n",
    "warnings.filterwarnings('ignore')"
   ]
  },
  {
   "cell_type": "markdown",
   "metadata": {},
   "source": [
    "# Setting up the Vacant Building DataSet"
   ]
  },
  {
   "cell_type": "code",
   "execution_count": 69,
   "metadata": {},
   "outputs": [
    {
     "name": "stdout",
     "output_type": "stream",
     "text": [
      "         ADDRESS            VACANT AS OF              DWELLING TYPE  \\\n",
      "0   663 3RD ST E  04/26/2011 12:00:00 AM   Multi-family Residential   \n",
      "1   989 3RD ST E  11/01/2011 12:00:00 AM  Single Family Residential   \n",
      "2  1457 3RD ST E  10/01/2014 12:00:00 AM  Single Family Residential   \n",
      "3   249 4TH ST E  10/13/2016 12:00:00 AM                 Commercial   \n",
      "4   767 4TH ST E  01/09/2009 12:00:00 AM                     Duplex   \n",
      "\n",
      "   VACANT BUILDING CATEGORY  WARD  DISTRICT  CENSUS TRACT  \\\n",
      "0                         2   7.0       4.0       34400.0   \n",
      "1                         2   7.0       4.0       34500.0   \n",
      "2                         2   7.0       1.0       34602.0   \n",
      "3                         2   2.0      17.0       34201.0   \n",
      "4                         2   7.0       4.0       34500.0   \n",
      "\n",
      "                           MAP LOCATION  \n",
      "0  (44.9547963325615, -93.071254461297)  \n",
      "1  (44.9568544056193, -93.058822503618)  \n",
      "2  (44.9569709429740, -93.038835961878)  \n",
      "3  (44.9487456956542, -93.085933397554)  \n",
      "4  (44.9576793823968, -93.067077030399)  \n",
      "         ADDRESS            VACANT AS OF              DWELLING TYPE  \\\n",
      "0   663 3RD ST E  04/26/2011 12:00:00 AM   Multi-family Residential   \n",
      "1   989 3RD ST E  11/01/2011 12:00:00 AM  Single Family Residential   \n",
      "2  1457 3RD ST E  10/01/2014 12:00:00 AM  Single Family Residential   \n",
      "3   249 4TH ST E  10/13/2016 12:00:00 AM                 Commercial   \n",
      "4   767 4TH ST E  01/09/2009 12:00:00 AM                     Duplex   \n",
      "\n",
      "   VACANT BUILDING CATEGORY  WARD  DISTRICT  CENSUS TRACT  \\\n",
      "0                         2   7.0       4.0       34400.0   \n",
      "1                         2   7.0       4.0       34500.0   \n",
      "2                         2   7.0       1.0       34602.0   \n",
      "3                         2   2.0      17.0       34201.0   \n",
      "4                         2   7.0       4.0       34500.0   \n",
      "\n",
      "                           MAP LOCATION   Latitude  Longitude       Date  \n",
      "0  (44.9547963325615, -93.071254461297)  44.954796 -93.071254 2011-04-26  \n",
      "1  (44.9568544056193, -93.058822503618)  44.956854 -93.058823 2011-11-01  \n",
      "2  (44.9569709429740, -93.038835961878)  44.956971 -93.038836 2014-10-01  \n",
      "3  (44.9487456956542, -93.085933397554)  44.948746 -93.085933 2016-10-13  \n",
      "4  (44.9576793823968, -93.067077030399)  44.957679 -93.067077 2009-01-09  \n",
      "ADDRESS                             object\n",
      "VACANT AS OF                        object\n",
      "DWELLING TYPE                       object\n",
      "VACANT BUILDING CATEGORY             int64\n",
      "WARD                               float64\n",
      "DISTRICT                           float64\n",
      "CENSUS TRACT                       float64\n",
      "MAP LOCATION                        object\n",
      "Latitude                           float64\n",
      "Longitude                          float64\n",
      "Date                        datetime64[ns]\n",
      "dtype: object\n"
     ]
    }
   ],
   "source": [
    "#publicBuilding = pd.read_csv('Public_Buildings_-_Dataset.csv')\n",
    "\n",
    "VacantBuilding = pd.read_csv('Vacant_Buildings_-_Dataset.csv')\n",
    "print(VacantBuilding.head())\n",
    "\n",
    "#Set default column and values\n",
    "#VacantBuilding['Latitude'] = 43.806\n",
    "#VacantBuilding['Longitude'] = -79.194\n",
    "\n",
    "\n",
    "VacantBuilding.loc[VacantBuilding['WARD'] == 1.0]\n",
    "VacantBuilding.iloc[0:,7]\n",
    "\n",
    "#print(VacantBuilding.iloc[1,7])\n",
    "\n",
    "a= VacantBuilding['MAP LOCATION'].str.find(',')\n",
    "\n",
    "\n",
    "# new data frame with split value columns \n",
    "new=VacantBuilding['MAP LOCATION'].str.split(\",\", n = 1, expand = True) \n",
    "\n",
    "#print(new[0])\n",
    "    \n",
    "# making seperate first name column from new data frame \n",
    "VacantBuilding['Latitude']= pd.to_numeric(new[0].str[1:]) #pd.to_numeric convert it to float\n",
    "\n",
    "# making seperate last name column from new data frame \n",
    "VacantBuilding['Longitude']= pd.to_numeric(new[1].str.rstrip(')'))\n",
    "#VacantBuilding['Longitude']= \n",
    "#print(VacantBuilding['Longitude'].str.rstrip(')'))\n",
    "#VacantBuilding[\"Name\"].str.find(sub) \n",
    "\n",
    "#VacantBuilding['date1'] = pd.to_datetime(VacantBuilding['VACANT AS OF'], format='%m/%d/%Y', utc=True)\n",
    "\n",
    "\n",
    "VacantBuilding['Date']= pd.to_datetime(VacantBuilding['VACANT AS OF'])\n",
    "\n",
    "\n",
    "print(VacantBuilding.head())\n",
    "print(VacantBuilding.dtypes)"
   ]
  },
  {
   "cell_type": "code",
   "execution_count": null,
   "metadata": {},
   "outputs": [],
   "source": []
  },
  {
   "cell_type": "code",
   "execution_count": 70,
   "metadata": {},
   "outputs": [
    {
     "name": "stdout",
     "output_type": "stream",
     "text": [
      "   YEAR OF STOP            DATE OF STOP RACE OF DRIVER GENDER OF DRIVER  \\\n",
      "0          2001  01/01/2001 12:11:00 AM          White           Female   \n",
      "1          2001  01/01/2001 12:14:00 AM          White             Male   \n",
      "2          2001  01/01/2001 12:23:00 AM          White             Male   \n",
      "3          2001  01/01/2001 12:28:00 AM          White             Male   \n",
      "4          2001  01/01/2001 12:30:00 AM          Asian           Female   \n",
      "\n",
      "  DRIVER SEARCHED? VEHICLE SEARCHED? CITATION ISSUED?  AGE OF DRIVER  \\\n",
      "0               No                No               No            NaN   \n",
      "1               No                No               No            NaN   \n",
      "2               No                No               No            NaN   \n",
      "3               No                No               No            NaN   \n",
      "4              Yes                No               No            NaN   \n",
      "\n",
      "  REASON FOR STOP  POLICE GRID NUMBER LOCATION OF STOP BY POLICE GRID  COUNT  \n",
      "0         No Data                55.0     (44.97391713, -93.06089457)      1  \n",
      "1         No Data               106.0     (44.95211807, -93.15173337)      1  \n",
      "2         No Data                58.0      (44.9738881, -93.03039075)      1  \n",
      "3         No Data                44.0     (44.97358832, -93.17215188)      1  \n",
      "4         No Data                95.0     (44.95987773, -93.06094546)      1  \n"
     ]
    }
   ],
   "source": [
    "\n",
    "\n",
    "TStop = pd.read_csv('Traffic_Stop_Dataset.csv')\n",
    "print(TStop.head())\n",
    "\n"
   ]
  },
  {
   "cell_type": "code",
   "execution_count": null,
   "metadata": {},
   "outputs": [],
   "source": []
  }
 ],
 "metadata": {
  "kernelspec": {
   "display_name": "Python 3",
   "language": "python",
   "name": "python3"
  },
  "language_info": {
   "codemirror_mode": {
    "name": "ipython",
    "version": 3
   },
   "file_extension": ".py",
   "mimetype": "text/x-python",
   "name": "python",
   "nbconvert_exporter": "python",
   "pygments_lexer": "ipython3",
   "version": "3.7.1"
  }
 },
 "nbformat": 4,
 "nbformat_minor": 2
}
